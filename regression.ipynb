{
 "metadata": {
  "language_info": {
   "codemirror_mode": {
    "name": "ipython",
    "version": 3
   },
   "file_extension": ".py",
   "mimetype": "text/x-python",
   "name": "python",
   "nbconvert_exporter": "python",
   "pygments_lexer": "ipython3",
   "version": "3.9.0-final"
  },
  "orig_nbformat": 2,
  "kernelspec": {
   "name": "python3",
   "display_name": "Python 3",
   "language": "python"
  }
 },
 "nbformat": 4,
 "nbformat_minor": 2,
 "cells": [
  {
   "source": [
    "# Linear Regression with sklearn and seaborn\n",
    "\n",
    "For this excersise I have chosen a dataset from [Kaggle](https://www.kaggle.com/) reflecting a timeseries of financial trading data on [Ethereum-Classic-ETC](https://www.kaggle.com/soham1024/ethereum-historical-data) crypto-currency. This dataset was updated Aug 2, 2020\n",
    "at the time of this analysis and covers historical data at 1 day intervals for the period beginning Mar 2016 to Aug 02, 2020. \n",
    "\n",
    "The goal is to Identify:\n",
    "\n",
    "```\n",
    "    A) Does a correlation exist between one days' Close Price (shown as price in the dataset) and the previous days' volume. \n",
    "    B) If such a correlation exists, can it be used to create a predictive model of the next days' Price? High? Low? Spread?\n",
    "\n",
    "```\n",
    "\n",
    "For the purpose of this analysis, Volume will be considered as our constant variable. (should no direct correlations appear to exist with any other category, Volume as a ratio of one other column series will be considered as our next constant)\n",
    "\n",
    "The Dependent Variable for this analysis will be set to Price(on the subsequent day of the constant)\n",
    "\n"
   ],
   "cell_type": "markdown",
   "metadata": {}
  },
  {
   "source": [
    "import pandas as pd \n",
    "import matplotlib.pyplot as plt \n",
    "%matplotlib inline\n",
    "from sklearn.linear_model import LinearRegression\n",
    "from sklearn.model_selection import train_test_split\n",
    "\n",
    "\n",
    "#TODO: run script that alters csv string representations of floats containing comma's. call below function while iterating through each line. O(N^2)\n",
    "# def pull_comma(csv_str):\n",
    "#     if ',' in csv_str:\n",
    "#         return csv_str.pop(csv_str[','])\n",
    "#     else:\n",
    "#         return csv_str"
   ],
   "cell_type": "code",
   "metadata": {},
   "execution_count": 44,
   "outputs": []
  },
  {
   "cell_type": "code",
   "execution_count": 65,
   "metadata": {},
   "outputs": [
    {
     "output_type": "stream",
     "name": "stdout",
     "text": [
      "<class 'pandas.core.frame.DataFrame'>\nRangeIndex: 1607 entries, 0 to 1606\nData columns (total 7 columns):\n #   Column    Non-Null Count  Dtype         \n---  ------    --------------  -----         \n 0   Date      1607 non-null   datetime64[ns]\n 1   Price     1607 non-null   object        \n 2   Open      1607 non-null   object        \n 3   High      1607 non-null   object        \n 4   Low       1607 non-null   object        \n 5   Vol.      1607 non-null   object        \n 6   Change %  1607 non-null   object        \ndtypes: datetime64[ns](1), object(6)\nmemory usage: 88.0+ KB\n"
     ]
    }
   ],
   "source": [
    "df_etc = pd.read_csv('data_csv/Ethereum Historical Data.csv')\n",
    "df_etc['Date'] = pd.to_datetime(df_etc['Date'])\n",
    "# df_etc = df_etc.convert_dtypes() # only use if necessary to perform operations on values in DataFrame\n",
    "\n",
    "#TODO: if pandas cannot work with the string values execute below to_numeric conversions after running script to alter cvs file in above cell.\n",
    "# pd.to_numeric(df_etc['Price'])\n",
    "# pd.to_numeric(df_etc['Open'])\n",
    "# pd.to_numeric(df_etc['High'])\n",
    "# pd.to_numeric(df_etc['Low'])\n",
    "# pd.to_numeric(df_etc['Vol'])\n",
    "# pd.to_numeric(df_etc['Change %'])\n",
    "\n",
    "df_etc.info()\n"
   ]
  },
  {
   "cell_type": "code",
   "execution_count": 69,
   "metadata": {},
   "outputs": [
    {
     "output_type": "execute_result",
     "data": {
      "text/plain": [
       "                       Date  Price   Open   High    Low  Vol. Change %\n",
       "count                  1607   1607   1607   1607   1607  1607     1607\n",
       "unique                 1607   1499   1492   1490   1482  1376     1014\n",
       "top     2019-04-29 00:00:00  10.16  10.16  10.16  10.16     -    0.00%\n",
       "freq                      1      9      8      7      7     8       14\n",
       "first   2016-03-10 00:00:00    NaN    NaN    NaN    NaN   NaN      NaN\n",
       "last    2020-08-02 00:00:00    NaN    NaN    NaN    NaN   NaN      NaN"
      ],
      "text/html": "<div>\n<style scoped>\n    .dataframe tbody tr th:only-of-type {\n        vertical-align: middle;\n    }\n\n    .dataframe tbody tr th {\n        vertical-align: top;\n    }\n\n    .dataframe thead th {\n        text-align: right;\n    }\n</style>\n<table border=\"1\" class=\"dataframe\">\n  <thead>\n    <tr style=\"text-align: right;\">\n      <th></th>\n      <th>Date</th>\n      <th>Price</th>\n      <th>Open</th>\n      <th>High</th>\n      <th>Low</th>\n      <th>Vol.</th>\n      <th>Change %</th>\n    </tr>\n  </thead>\n  <tbody>\n    <tr>\n      <th>count</th>\n      <td>1607</td>\n      <td>1607</td>\n      <td>1607</td>\n      <td>1607</td>\n      <td>1607</td>\n      <td>1607</td>\n      <td>1607</td>\n    </tr>\n    <tr>\n      <th>unique</th>\n      <td>1607</td>\n      <td>1499</td>\n      <td>1492</td>\n      <td>1490</td>\n      <td>1482</td>\n      <td>1376</td>\n      <td>1014</td>\n    </tr>\n    <tr>\n      <th>top</th>\n      <td>2019-04-29 00:00:00</td>\n      <td>10.16</td>\n      <td>10.16</td>\n      <td>10.16</td>\n      <td>10.16</td>\n      <td>-</td>\n      <td>0.00%</td>\n    </tr>\n    <tr>\n      <th>freq</th>\n      <td>1</td>\n      <td>9</td>\n      <td>8</td>\n      <td>7</td>\n      <td>7</td>\n      <td>8</td>\n      <td>14</td>\n    </tr>\n    <tr>\n      <th>first</th>\n      <td>2016-03-10 00:00:00</td>\n      <td>NaN</td>\n      <td>NaN</td>\n      <td>NaN</td>\n      <td>NaN</td>\n      <td>NaN</td>\n      <td>NaN</td>\n    </tr>\n    <tr>\n      <th>last</th>\n      <td>2020-08-02 00:00:00</td>\n      <td>NaN</td>\n      <td>NaN</td>\n      <td>NaN</td>\n      <td>NaN</td>\n      <td>NaN</td>\n      <td>NaN</td>\n    </tr>\n  </tbody>\n</table>\n</div>"
     },
     "metadata": {},
     "execution_count": 69
    }
   ],
   "source": [
    "\n",
    "df_etc.describe()\n",
    "\n"
   ]
  },
  {
   "source": [
    "### Setting constant, dependent, train_test_split, and Instantiating LinearRegression\n",
    "\n"
   ],
   "cell_type": "markdown",
   "metadata": {}
  },
  {
   "cell_type": "code",
   "execution_count": null,
   "metadata": {},
   "outputs": [],
   "source": [
    "#TODO: account for the fact that in this time/series evaluation the value of the Constant:(X) is one day behind the value being considered for the Dependent:(y). potential solve. drop first indexrow from Dependent:(y) and drop last indexrow from Constant:(X) this will offset the data being considered without affecting the shape of the data. \n",
    "\n",
    "X = df_etc['Vol.'].values \n",
    "y = df_etc['Price'].values\n"
   ]
  }
 ]
}